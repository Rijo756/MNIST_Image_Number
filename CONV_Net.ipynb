{
 "cells": [
  {
   "cell_type": "code",
   "execution_count": 1,
   "metadata": {},
   "outputs": [],
   "source": [
    "import math\n",
    "import numpy as np\n",
    "import h5py\n",
    "import matplotlib.pyplot as plt\n",
    "import tensorflow as tf\n",
    "from tensorflow.keras import datasets, layers, models\n",
    "from tensorflow.keras.layers import Dense, Dropout, Activation, Flatten\n",
    "from tensorflow.keras.utils import to_categorical\n",
    "from tensorflow.python.framework import ops\n",
    "from mnist import MNIST"
   ]
  },
  {
   "cell_type": "code",
   "execution_count": 2,
   "metadata": {},
   "outputs": [],
   "source": [
    "mndata = MNIST('sample')\n",
    "X, y = mndata.load_training()"
   ]
  },
  {
   "cell_type": "code",
   "execution_count": 3,
   "metadata": {},
   "outputs": [],
   "source": [
    "X_data = np.array(X)\n",
    "y = np.array(y)\n",
    "y_train1 = y.reshape(y.shape[0],1)\n",
    "y_train1 = to_categorical(y_train1)"
   ]
  },
  {
   "cell_type": "code",
   "execution_count": 4,
   "metadata": {},
   "outputs": [
    {
     "name": "stdout",
     "output_type": "stream",
     "text": [
      "(60000, 784) (60000, 10)\n"
     ]
    }
   ],
   "source": [
    "print (X_data.shape,y_train1.shape)"
   ]
  },
  {
   "cell_type": "code",
   "execution_count": 5,
   "metadata": {},
   "outputs": [
    {
     "name": "stdout",
     "output_type": "stream",
     "text": [
      "(60000, 28, 28, 1) (60000, 10)\n"
     ]
    }
   ],
   "source": [
    "X_image = X_data.reshape((X_data.shape[0],28,28,1))\n",
    "print (X_image.shape,y_train1.shape)"
   ]
  },
  {
   "cell_type": "code",
   "execution_count": 6,
   "metadata": {},
   "outputs": [
    {
     "data": {
      "image/png": "[encoded data removed]",
      "text/plain": [
       "<Figure size 432x288 with 1 Axes>"
      ]
     },
     "metadata": {
      "needs_background": "light"
     },
     "output_type": "display_data"
    },
    {
     "name": "stdout",
     "output_type": "stream",
     "text": [
      "[0. 0. 0. 0. 0. 1. 0. 0. 0. 0.]\n"
     ]
    }
   ],
   "source": [
    "plt.imshow(X_image[0,:,:,0], interpolation='nearest')\n",
    "plt.show()\n",
    "print (y_train1[0])"
   ]
  },
  {
   "cell_type": "code",
   "execution_count": 7,
   "metadata": {},
   "outputs": [
    {
     "name": "stdout",
     "output_type": "stream",
     "text": [
      "(60000, 28, 28, 1) (60000, 10) (3000, 28, 28, 1) (3000, 10)\n"
     ]
    }
   ],
   "source": [
    "ratio = int(0.95*X_image.shape[0])\n",
    "\n",
    "X_train = X_image\n",
    "y_train = y_train1\n",
    "X_test = X_image[ratio:]\n",
    "y_test = y_train1[ratio:]\n",
    "\n",
    "X_train = X_train/255\n",
    "X_test = X_test /255\n",
    "\n",
    "print (X_train.shape,y_train.shape,X_test.shape,y_test.shape)"
   ]
  },
  {
   "cell_type": "code",
   "execution_count": 13,
   "metadata": {},
   "outputs": [],
   "source": [
    "model = models.Sequential()\n",
    "\n",
    "model.add(layers.Conv2D(64, (3,3), input_shape=(28, 28, 1)))\n",
    "model.add(Activation('relu'))\n",
    "model.add(layers.MaxPooling2D(pool_size=(2,2)))\n",
    "\n",
    "model.add(layers.Conv2D(64, (3,3)))\n",
    "model.add(Activation('relu'))\n",
    "model.add(layers.MaxPooling2D(pool_size=(2,2)))\n",
    "\n",
    "model.add(Flatten())\n",
    "\n",
    "model.add(Dense(64))\n",
    "\n",
    "model.add(Dense(10))\n",
    "model.add(Activation('softmax'))"
   ]
  },
  {
   "cell_type": "code",
   "execution_count": 14,
   "metadata": {},
   "outputs": [
    {
     "name": "stdout",
     "output_type": "stream",
     "text": [
      "Model: \"sequential_2\"\n",
      "_________________________________________________________________\n",
      "Layer (type)                 Output Shape              Param #   \n",
      "=================================================================\n",
      "conv2d_2 (Conv2D)            (None, 26, 26, 64)        640       \n",
      "_________________________________________________________________\n",
      "activation_2 (Activation)    (None, 26, 26, 64)        0         \n",
      "_________________________________________________________________\n",
      "max_pooling2d_1 (MaxPooling2 (None, 13, 13, 64)        0         \n",
      "_________________________________________________________________\n",
      "conv2d_3 (Conv2D)            (None, 11, 11, 64)        36928     \n",
      "_________________________________________________________________\n",
      "activation_3 (Activation)    (None, 11, 11, 64)        0         \n",
      "_________________________________________________________________\n",
      "max_pooling2d_2 (MaxPooling2 (None, 5, 5, 64)          0         \n",
      "_________________________________________________________________\n",
      "flatten_1 (Flatten)          (None, 1600)              0         \n",
      "_________________________________________________________________\n",
      "dense_2 (Dense)              (None, 64)                102464    \n",
      "_________________________________________________________________\n",
      "dense_3 (Dense)              (None, 10)                650       \n",
      "_________________________________________________________________\n",
      "activation_4 (Activation)    (None, 10)                0         \n",
      "=================================================================\n",
      "Total params: 140,682\n",
      "Trainable params: 140,682\n",
      "Non-trainable params: 0\n",
      "_________________________________________________________________\n"
     ]
    }
   ],
   "source": [
    "model.summary()"
   ]
  },
  {
   "cell_type": "code",
   "execution_count": 18,
   "metadata": {},
   "outputs": [
    {
     "name": "stdout",
     "output_type": "stream",
     "text": [
      "Train on 60000 samples, validate on 3000 samples\n",
      "Epoch 1/10\n",
      "60000/60000 [==============================] - 46s 774us/sample - loss: 0.1218 - accuracy: 0.9630 - val_loss: 0.0395 - val_accuracy: 0.9887\n",
      "Epoch 2/10\n",
      "60000/60000 [==============================] - 46s 765us/sample - loss: 0.0446 - accuracy: 0.9858 - val_loss: 0.0313 - val_accuracy: 0.9927\n",
      "Epoch 3/10\n",
      "60000/60000 [==============================] - 46s 772us/sample - loss: 0.0326 - accuracy: 0.9898 - val_loss: 0.0164 - val_accuracy: 0.9973\n",
      "Epoch 4/10\n",
      "60000/60000 [==============================] - 46s 770us/sample - loss: 0.0253 - accuracy: 0.9921 - val_loss: 0.0168 - val_accuracy: 0.9963\n",
      "Epoch 5/10\n",
      "60000/60000 [==============================] - 46s 771us/sample - loss: 0.0202 - accuracy: 0.9936 - val_loss: 0.0146 - val_accuracy: 0.9970\n",
      "Epoch 6/10\n",
      "60000/60000 [==============================] - 47s 775us/sample - loss: 0.0169 - accuracy: 0.9942 - val_loss: 0.0149 - val_accuracy: 0.9960\n",
      "Epoch 7/10\n",
      "60000/60000 [==============================] - 47s 777us/sample - loss: 0.0138 - accuracy: 0.9957 - val_loss: 0.0129 - val_accuracy: 0.9973\n",
      "Epoch 8/10\n",
      "60000/60000 [==============================] - 47s 777us/sample - loss: 0.0121 - accuracy: 0.9960 - val_loss: 0.0104 - val_accuracy: 0.9973\n",
      "Epoch 9/10\n",
      "60000/60000 [==============================] - 47s 777us/sample - loss: 0.0110 - accuracy: 0.9963 - val_loss: 0.0107 - val_accuracy: 0.9980\n",
      "Epoch 10/10\n",
      "60000/60000 [==============================] - 47s 777us/sample - loss: 0.0104 - accuracy: 0.9965 - val_loss: 0.0089 - val_accuracy: 0.9980\n"
     ]
    }
   ],
   "source": [
    "model.compile(loss=tf.keras.losses.categorical_crossentropy, optimizer=tf.keras.optimizers.Adam(),metrics=['accuracy'])\n",
    "\n",
    "history = model.fit(X_train, y_train, epochs=10, \n",
    "                    validation_data=(X_test, y_test))"
   ]
  },
  {
   "cell_type": "code",
   "execution_count": 21,
   "metadata": {},
   "outputs": [
    {
     "name": "stdout",
     "output_type": "stream",
     "text": [
      "3000/3000 [==============================] - 1s 188us/sample - loss: 0.0089 - accuracy: 0.9980\n",
      "Test loss 0.00889551233771518\n",
      "Test accuracy 0.998\n"
     ]
    }
   ],
   "source": [
    "test_loss, test_acc = model.evaluate(X_test, y_test)\n",
    "print('Test loss', test_loss)\n",
    "print('Test accuracy', test_acc)"
   ]
  },
  {
   "cell_type": "code",
   "execution_count": 55,
   "metadata": {},
   "outputs": [],
   "source": [
    "def resize1(arr):\n",
    "    w = int(np.size(arr,0) / 28)\n",
    "    h = int(np.size(arr,1) / 28)\n",
    "    #print (w,h)\n",
    "    img = np.zeros((28,28))\n",
    "    IMG = np.zeros((784,1))\n",
    "    h1 = w1 = 0\n",
    "    h2 = h\n",
    "    w2 = w\n",
    "    count = 0\n",
    "    for i in range(0,28):\n",
    "        for j in range(0,28):\n",
    "            img[i,j] = np.average(arr[w1:w2,h1:h2])\n",
    "            h1 = h2\n",
    "            h2 = h2 + h\n",
    "        h1 = 0\n",
    "        h2 = h\n",
    "        w1 = w2\n",
    "        w2 = w2 + w\n",
    "    for i in range(0,28):\n",
    "        for j in range(0,28):\n",
    "            IMG[count] = img[j,i]\n",
    "            count = count + 1\n",
    "    return IMG,img"
   ]
  },
  {
   "cell_type": "code",
   "execution_count": 60,
   "metadata": {},
   "outputs": [
    {
     "data": {
      "image/png": "[encoded data removed]",
      "text/plain": [
       "<Figure size 432x288 with 1 Axes>"
      ]
     },
     "metadata": {
      "needs_background": "light"
     },
     "output_type": "display_data"
    },
    {
     "name": "stdout",
     "output_type": "stream",
     "text": [
      "5\n"
     ]
    },
    {
     "data": {
      "image/png": "[encoded data removed]",
      "text/plain": [
       "<Figure size 432x288 with 1 Axes>"
      ]
     },
     "metadata": {
      "needs_background": "light"
     },
     "output_type": "display_data"
    },
    {
     "name": "stdout",
     "output_type": "stream",
     "text": [
      "1\n"
     ]
    },
    {
     "data": {
      "image/png": "[encoded data removed]",
      "text/plain": [
       "<Figure size 432x288 with 1 Axes>"
      ]
     },
     "metadata": {
      "needs_background": "light"
     },
     "output_type": "display_data"
    },
    {
     "name": "stdout",
     "output_type": "stream",
     "text": [
      "1\n"
     ]
    },
    {
     "data": {
      "image/png": "[encoded data removed]",
      "text/plain": [
       "<Figure size 432x288 with 1 Axes>"
      ]
     },
     "metadata": {
      "needs_background": "light"
     },
     "output_type": "display_data"
    },
    {
     "name": "stdout",
     "output_type": "stream",
     "text": [
      "9\n"
     ]
    },
    {
     "data": {
      "image/png": "[encoded data removed]",
      "text/plain": [
       "<Figure size 432x288 with 1 Axes>"
      ]
     },
     "metadata": {
      "needs_background": "light"
     },
     "output_type": "display_data"
    },
    {
     "name": "stdout",
     "output_type": "stream",
     "text": [
      "0\n"
     ]
    }
   ],
   "source": [
    "i =1\n",
    "while( i<6):\n",
    "    i = i + 1\n",
    "    arr = plt.imread('Number'+str(i)+'.png')\n",
    "    IMG,pic = resize1(arr)\n",
    "    pic = 1- pic\n",
    "    pic = pic/np.max(pic)\n",
    "    plt.imshow(pic, interpolation='nearest')\n",
    "    plt.show()\n",
    "    prediction = model.predict(pic.reshape((1,28,28,1)))\n",
    "    print(np.argmax(np.round(prediction[0])))"
   ]
  },
  {
   "cell_type": "code",
   "execution_count": null,
   "metadata": {},
   "outputs": [],
   "source": []
  }
 ],
 "metadata": {
  "kernelspec": {
   "display_name": "Python 3",
   "language": "python",
   "name": "python3"
  },
  "language_info": {
   "codemirror_mode": {
    "name": "ipython",
    "version": 3
   },
   "file_extension": ".py",
   "mimetype": "text/x-python",
   "name": "python",
   "nbconvert_exporter": "python",
   "pygments_lexer": "ipython3",
   "version": "3.7.6"
  }
 },
 "nbformat": 4,
 "nbformat_minor": 4
}
